{
 "cells": [
  {
   "cell_type": "markdown",
   "metadata": {},
   "source": [
    "## Grab screenshots from the oscilloscope"
   ]
  },
  {
   "cell_type": "code",
   "execution_count": 1,
   "metadata": {
    "collapsed": true
   },
   "outputs": [],
   "source": [
    "import visa\n",
    "import numpy as np\n",
    "import matplotlib.pyplot as plt"
   ]
  },
  {
   "cell_type": "code",
   "execution_count": 4,
   "metadata": {
    "collapsed": true
   },
   "outputs": [],
   "source": [
    "scope_name = 'USB0::0x0699::0x0373::C010223::INSTR'\n",
    "rm = visa.ResourceManager()\n",
    "scope = rm.open_resource(scope_name)\n",
    "\n",
    "def get_waveform(channel, start, stop):\n",
    "    from struct import unpack\n",
    "    scope.write('DATA:SOU CH{0}'.format(channel))\n",
    "    scope.write('DATA:WIDTH 1')\n",
    "    scope.write('DATA:ENC RPB')\n",
    "    scope.write('DATA:START {0}'.format(start))\n",
    "    scope.write('DATA:STOP {0}'.format(stop))\n",
    "\n",
    "    ymult = float(scope.ask('WFMPRE:YMULT?'))\n",
    "    yzero = float(scope.ask('WFMPRE:YZERO?'))\n",
    "    yoff = float(scope.ask('WFMPRE:YOFF?'))\n",
    "    xincr = float(scope.ask('WFMPRE:XINCR?'))\n",
    "\n",
    "    scope.write('CURVE?')\n",
    "    data = scope.read_raw()\n",
    "    headerlen = 2 + int(data[1])\n",
    "    header = data[:headerlen]\n",
    "    adc_wave = data[headerlen:-1]\n",
    "    adc_wave = np.array(unpack('%sB' % len(adc_wave), adc_wave))\n",
    "    volts = (adc_wave - yoff) * ymult + yzero\n",
    "    time = np.arange(0, xincr * len(volts), xincr)\n",
    "    return time, volts"
   ]
  },
  {
   "cell_type": "code",
   "execution_count": null,
   "metadata": {
    "collapsed": true
   },
   "outputs": [],
   "source": [
    "time, volts = get_waveform(2,1,1000000);\n",
    "plt.plot(time, volts)\n",
    "plt.show()"
   ]
  },
  {
   "cell_type": "markdown",
   "metadata": {},
   "source": [
    "## Get a screenshot"
   ]
  },
  {
   "cell_type": "code",
   "execution_count": 2,
   "metadata": {},
   "outputs": [],
   "source": [
    "scope_name = 'USB0::0x0699::0x0373::C010223::INSTR'\n",
    "rm = visa.ResourceManager()\n",
    "scope = rm.open_resource(scope_name)\n",
    "\n",
    "def screengrab_scope(fname):\n",
    "    scope.write('SAVE:IMAG:FILEF PNG')\n",
    "    scope.write('HARDCOPY START')\n",
    "    raw_data = scope.read_raw()\n",
    "    with open(fname + '.png', 'wb') as fid:\n",
    "        fid.write(raw_data)    "
   ]
  },
  {
   "cell_type": "code",
   "execution_count": 4,
   "metadata": {},
   "outputs": [],
   "source": [
    "rd =screengrab_scope('galvo_arm_3_y_fixed')"
   ]
  },
  {
   "cell_type": "code",
   "execution_count": 30,
   "metadata": {},
   "outputs": [],
   "source": []
  },
  {
   "cell_type": "code",
   "execution_count": null,
   "metadata": {
    "collapsed": true
   },
   "outputs": [],
   "source": []
  }
 ],
 "metadata": {
  "anaconda-cloud": {},
  "kernelspec": {
   "display_name": "Python [Root]",
   "language": "python",
   "name": "Python [Root]"
  },
  "language_info": {
   "codemirror_mode": {
    "name": "ipython",
    "version": 3
   },
   "file_extension": ".py",
   "mimetype": "text/x-python",
   "name": "python",
   "nbconvert_exporter": "python",
   "pygments_lexer": "ipython3",
   "version": "3.5.2"
  }
 },
 "nbformat": 4,
 "nbformat_minor": 1
}
