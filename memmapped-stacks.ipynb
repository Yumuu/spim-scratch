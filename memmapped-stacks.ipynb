{
 "cells": [
  {
   "cell_type": "markdown",
   "metadata": {},
   "source": [
    "## Load slices of binary data "
   ]
  },
  {
   "cell_type": "code",
   "execution_count": 117,
   "metadata": {
    "collapsed": true
   },
   "outputs": [],
   "source": [
    "import numpy as np\n",
    "from glob import glob\n",
    "import pyqtgraph as pq\n",
    "from fish.image.vol import get_stack_dims, filter_flat, unfilter_flat\n",
    "%gui qt"
   ]
  },
  {
   "cell_type": "code",
   "execution_count": 102,
   "metadata": {
    "collapsed": true
   },
   "outputs": [],
   "source": [
    "# seed correlation\n",
    "def seed_corr(seed, data):\n",
    "    from numpy import where, correlate, prod, zeros\n",
    "    from scipy.stats import zscore\n",
    " \n",
    "    flat = data.reshape(data.shape[0], prod(data.shape[1:])).T\n",
    "    valid = where(flat.std(1) != 0)[0]\n",
    "    seed = zscore(seed).copy()\n",
    "    normed = zscore(flat[valid, :], axis=1)\n",
    "    \n",
    "    corrs = zeros(flat.shape[0])\n",
    "    \n",
    "    for ind, val in enumerate(valid):\n",
    "        corrs[val] = correlate(seed, normed[ind]) / len(seed)\n",
    "\n",
    "    corrs = corrs.reshape(data.shape[1:])\n",
    "    \n",
    "    return corrs\n",
    "\n",
    "# Need this function to prevent pyqtgraph from leaking memory\n",
    "def wipe_ims(pq):\n",
    "    from numpy import zeros\n",
    "    for iw in pq.images:\n",
    "      iw.setImage(zeros((1,1))) #<- dummy 1x1 image\n",
    "      iw.parent().close()"
   ]
  },
  {
   "cell_type": "code",
   "execution_count": 127,
   "metadata": {},
   "outputs": [
    {
     "name": "stdout",
     "output_type": "stream",
     "text": [
      "[6000   11  912  864]\n"
     ]
    }
   ],
   "source": [
    "base_dir = 'F:/davis/20170501/5dpf_cy302_f1_omr_2_20170501_204050/'\n",
    "dims = tuple(get_stack_dims(base_dir)[::-1])\n",
    "fnames = glob(base_dir + '*.stack')\n",
    "fnames.sort()\n",
    "print(np.r_[len(fnames), dims])\n",
    "\n",
    "mem = [np.memmap(f, dtype='uint16', shape=dims) for f in fnames]"
   ]
  },
  {
   "cell_type": "code",
   "execution_count": 141,
   "metadata": {},
   "outputs": [
    {
     "name": "stdout",
     "output_type": "stream",
     "text": [
      "Wall time: 7.24 s\n"
     ]
    }
   ],
   "source": [
    "%%time\n",
    "wipe_ims(pq)\n",
    "dat = np.array([m[5,:,:] for m in mem])\n",
    "im = pq.image(dat)"
   ]
  },
  {
   "cell_type": "code",
   "execution_count": 90,
   "metadata": {},
   "outputs": [],
   "source": [
    "rois = {}"
   ]
  },
  {
   "cell_type": "code",
   "execution_count": 104,
   "metadata": {},
   "outputs": [],
   "source": [
    "rois['cere'] = im.roi.getArrayRegion(dat, im.imageItem, axes=(1,2)).mean((1,2))"
   ]
  },
  {
   "cell_type": "code",
   "execution_count": 105,
   "metadata": {},
   "outputs": [
    {
     "data": {
      "text/plain": [
       "<pyqtgraph.graphicsWindows.PlotWindow at 0x11e45c18>"
      ]
     },
     "execution_count": 105,
     "metadata": {},
     "output_type": "execute_result"
    }
   ],
   "source": [
    "pq.plot(rois['cere'])"
   ]
  },
  {
   "cell_type": "code",
   "execution_count": 132,
   "metadata": {},
   "outputs": [],
   "source": [
    "# load ephys\n",
    "from fish.ephys.ephys import load, windowed_variance\n",
    "ep_fname = 'W:/davis/data/ephys/20170501/20170501_cy302_f1_omr_2-2.10chFlt'\n",
    "epdat = load(ep_fname)"
   ]
  },
  {
   "cell_type": "code",
   "execution_count": 133,
   "metadata": {
    "collapsed": true
   },
   "outputs": [],
   "source": [
    "from fish.ephys.ephys import estimate_onset"
   ]
  },
  {
   "cell_type": "code",
   "execution_count": 134,
   "metadata": {},
   "outputs": [],
   "source": [
    "cam = estimate_onset(epdat[2], 3.7, 100)"
   ]
  },
  {
   "cell_type": "code",
   "execution_count": 135,
   "metadata": {},
   "outputs": [],
   "source": [
    "smth = [windowed_variance(v)[0] for v in epdat[0:2]]"
   ]
  },
  {
   "cell_type": "code",
   "execution_count": 136,
   "metadata": {
    "collapsed": true
   },
   "outputs": [],
   "source": [
    "plt.plot(smth[1][cam])\n",
    "plt.show()"
   ]
  },
  {
   "cell_type": "code",
   "execution_count": 140,
   "metadata": {},
   "outputs": [
    {
     "data": {
      "text/plain": [
       "<pyqtgraph.graphicsWindows.PlotWindow at 0xf3864c8>"
      ]
     },
     "execution_count": 140,
     "metadata": {},
     "output_type": "execute_result"
    }
   ],
   "source": [
    "pq.plot(epdat[1][cam[0]:cam[-1]][::10])"
   ]
  },
  {
   "cell_type": "code",
   "execution_count": null,
   "metadata": {
    "collapsed": true
   },
   "outputs": [],
   "source": []
  }
 ],
 "metadata": {
  "anaconda-cloud": {},
  "kernelspec": {
   "display_name": "Python [conda root]",
   "language": "python",
   "name": "conda-root-py"
  },
  "language_info": {
   "codemirror_mode": {
    "name": "ipython",
    "version": 3
   },
   "file_extension": ".py",
   "mimetype": "text/x-python",
   "name": "python",
   "nbconvert_exporter": "python",
   "pygments_lexer": "ipython3",
   "version": "3.5.2"
  }
 },
 "nbformat": 4,
 "nbformat_minor": 1
}
